{
  "nbformat": 4,
  "nbformat_minor": 0,
  "metadata": {
    "colab": {
      "name": "Translation from english to hausa project .ipynb",
      "provenance": [],
      "collapsed_sections": []
    },
    "kernelspec": {
      "name": "python3",
      "display_name": "Python 3"
    },
    "accelerator": "GPU"
  },
  "cells": [
    {
      "cell_type": "code",
      "metadata": {
        "id": "EvUhJBjcMW8O"
      },
      "source": [
        "from google.colab import drive\n",
        "drive.mount('/content/drive')"
      ],
      "execution_count": null,
      "outputs": []
    },
    {
      "cell_type": "code",
      "metadata": {
        "id": "3ylUN-DCNrZY"
      },
      "source": [
        "%reload_ext autoreload\n",
        "%autoreload 2\n",
        "%matplotlib inline"
      ],
      "execution_count": null,
      "outputs": []
    },
    {
      "cell_type": "code",
      "metadata": {
        "id": "2RFrliM9PDdD"
      },
      "source": [
        "import numpy as np\n",
        "import pandas as pd\n",
        "import unicodedata\n",
        "import string\n",
        "import re\n",
        "import random\n",
        "import torch"
      ],
      "execution_count": null,
      "outputs": []
    },
    {
      "cell_type": "code",
      "metadata": {
        "id": "NDtcTDnfeR5m"
      },
      "source": [
        "! pip install opustools-pkg"
      ],
      "execution_count": null,
      "outputs": []
    },
    {
      "cell_type": "code",
      "metadata": {
        "id": "Lv3MJJPeeheS"
      },
      "source": [
        "# TODO: Set your source and target languages. Keep in mind, these traditionally use language codes as found here:\n",
        "# These will also become the suffix's of all vocab and corpus files used throughout\n",
        "import os\n",
        "source_language = \"en\"\n",
        "target_language = \"ha\" \n",
        "lc = False  # If True, lowercase the data.\n",
        "seed = 42  # Random seed for shuffling.\n",
        "tag = \"baseline\" # Give a unique name to your folder - this is to ensure you don't rewrite any models you've already submitted\n",
        "\n",
        "os.environ[\"src\"] = source_language # Sets them in bash as well, since we often use bash scripts\n",
        "os.environ[\"tgt\"] = target_language\n",
        "os.environ[\"tag\"] = tag"
      ],
      "execution_count": null,
      "outputs": []
    },
    {
      "cell_type": "markdown",
      "metadata": {
        "id": "38N5dLrOgbJt"
      },
      "source": [
        "# Bible Dataset from JW"
      ]
    },
    {
      "cell_type": "code",
      "metadata": {
        "id": "dJzghxmeejTG"
      },
      "source": [
        "# Downloading our corpus\n",
        "! opus_read -d JW300 -s $src -t $tgt -wm moses -w jw300.$src jw300.$tgt -q\n",
        "\n",
        "# extract the corpus file\n",
        "! gunzip JW300_latest_xml_$src-$tgt.xml.gz"
      ],
      "execution_count": null,
      "outputs": []
    },
    {
      "cell_type": "code",
      "metadata": {
        "id": "ZrdiJavuezxu"
      },
      "source": [
        "# TMX file to dataframe\n",
        "source_file = 'jw300.' + source_language\n",
        "target_file = 'jw300.' + target_language\n",
        "\n",
        "source = []\n",
        "target = []\n",
        "skip_lines = []  # Collect the line numbers of the source portion to skip the same lines for the target portion.\n",
        "with open(source_file) as f:\n",
        "    for i, line in enumerate(f):\n",
        "        # Skip sentences that are contained in the test set.\n",
        "        # if line.strip() not in en_test_sents:\n",
        "        source.append(line.strip())\n",
        "        # else:\n",
        "        #     skip_lines.append(i)             \n",
        "with open(target_file) as f:\n",
        "    for j, line in enumerate(f):\n",
        "        # Only add to corpus if corresponding source was not skipped.\n",
        "        # if j not in skip_lines:\n",
        "        target.append(line.strip())\n",
        "    \n",
        "print('Loaded data and skipped {}/{} lines since contained in test set.'.format(len(skip_lines), i))\n",
        "    \n",
        "#df = pd.DataFrame(zip(source_file, target_file), columns=['source_sentence', 'target_sentence'])\n",
        "# if you get TypeError: data argument can't be an iterator is because of your zip version run this below\n",
        "df1= pd.DataFrame(list(zip(source, target)), columns=['source_sentence', 'target_sentence'])\n",
        "print(df1.shape)\n",
        "df1.head(3)"
      ],
      "execution_count": null,
      "outputs": []
    },
    {
      "cell_type": "markdown",
      "metadata": {
        "id": "14-kcnBugmay"
      },
      "source": [
        "# Tatoeba"
      ]
    },
    {
      "cell_type": "code",
      "metadata": {
        "id": "fyXdpJVUglXz"
      },
      "source": [
        "# Downloading our corpus\n",
        "! opus_read -d Tatoeba -s $src -t $tgt -wm moses -w tatoeba.$src tatoeba.$tgt -q\n",
        "\n",
        "# extract the corpus file\n",
        "! gunzip Tatoeba_latest_xml_$src-$tgt.xml.gz"
      ],
      "execution_count": null,
      "outputs": []
    },
    {
      "cell_type": "code",
      "metadata": {
        "id": "qBYyCwAUgNSl"
      },
      "source": [
        "# TMX file to dataframe\n",
        "source_file = 'tatoeba.' + source_language\n",
        "target_file = 'tatoeba.' + target_language\n",
        "\n",
        "source = []\n",
        "target = []\n",
        "skip_lines = []  # Collect the line numbers of the source portion to skip the same lines for the target portion.\n",
        "with open(source_file) as f:\n",
        "    for i, line in enumerate(f):\n",
        "        # Skip sentences that are contained in the test set.\n",
        "        # if line.strip() not in en_test_sents:\n",
        "        source.append(line.strip())\n",
        "        # else:\n",
        "        #     skip_lines.append(i)             \n",
        "with open(target_file) as f:\n",
        "    for j, line in enumerate(f):\n",
        "        # Only add to corpus if corresponding source was not skipped.\n",
        "        # if j not in skip_lines:\n",
        "        target.append(line.strip())\n",
        "    \n",
        "print('Loaded data and skipped {}/{} lines since contained in test set.'.format(len(skip_lines), i))\n",
        "    \n",
        "#df = pd.DataFrame(zip(source_file, target_file), columns=['source_sentence', 'target_sentence'])\n",
        "# if you get TypeError: data argument can't be an iterator is because of your zip version run this below\n",
        "df2= pd.DataFrame(list(zip(source, target)), columns=['source_sentence', 'target_sentence'])\n",
        "print(df2.shape)\n",
        "df2.head(2)"
      ],
      "execution_count": null,
      "outputs": []
    },
    {
      "cell_type": "markdown",
      "metadata": {
        "id": "mrpFFaX0hEAy"
      },
      "source": [
        "# Wikimedia Dataset"
      ]
    },
    {
      "cell_type": "code",
      "metadata": {
        "id": "KT09tMg9hHEJ"
      },
      "source": [
        "# Downloading our corpus\n",
        "! opus_read -d wikimedia -s $src -t $tgt -wm moses -w wikimedia.$src wikimedia.$tgt -q\n",
        "\n",
        "# extract the corpus file\n",
        "! gunzip wikimedia_latest_xml_$src-$tgt.xml.gz"
      ],
      "execution_count": null,
      "outputs": []
    },
    {
      "cell_type": "code",
      "metadata": {
        "id": "XttTr29whIRs"
      },
      "source": [
        "# TMX file to dataframe\n",
        "source_file = 'wikimedia.' + source_language\n",
        "target_file = 'wikimedia.' + target_language\n",
        "\n",
        "source = []\n",
        "target = []\n",
        "skip_lines = []  # Collect the line numbers of the source portion to skip the same lines for the target portion.\n",
        "with open(source_file) as f:\n",
        "    for i, line in enumerate(f):\n",
        "        # Skip sentences that are contained in the test set.\n",
        "        # if line.strip() not in en_test_sents:\n",
        "        source.append(line.strip())\n",
        "        # else:\n",
        "        #     skip_lines.append(i)             \n",
        "with open(target_file) as f:\n",
        "    for j, line in enumerate(f):\n",
        "        # Only add to corpus if corresponding source was not skipped.\n",
        "        # if j not in skip_lines:\n",
        "        target.append(line.strip())\n",
        "    \n",
        "print('Loaded data and skipped {}/{} lines since contained in test set.'.format(len(skip_lines), i))\n",
        "    \n",
        "#df = pd.DataFrame(zip(source_file, target_file), columns=['source_sentence', 'target_sentence'])\n",
        "# if you get TypeError: data argument can't be an iterator is because of your zip version run this below\n",
        "df3= pd.DataFrame(list(zip(source, target)), columns=['source_sentence', 'target_sentence'])\n",
        "print(df3.shape)\n",
        "df3.head(3)"
      ],
      "execution_count": null,
      "outputs": []
    },
    {
      "cell_type": "markdown",
      "metadata": {
        "id": "r1mkmMEChTU_"
      },
      "source": [
        "# Tanzil Dataset"
      ]
    },
    {
      "cell_type": "code",
      "metadata": {
        "id": "Ecg6T4rghV9K"
      },
      "source": [
        "# Downloading our corpus\n",
        "! opus_read -d Tanzil -s $src -t $tgt -wm moses -w tanzil.$src tanzil.$tgt -q\n",
        "\n",
        "# extract the corpus file\n",
        "! gunzip Tanzil_latest_xml_$src-$tgt.xml.gz"
      ],
      "execution_count": null,
      "outputs": []
    },
    {
      "cell_type": "code",
      "metadata": {
        "id": "02jxtlAqhYik"
      },
      "source": [
        "# TMX file to dataframe\n",
        "source_file = 'tanzil.' + source_language\n",
        "target_file = 'tanzil.' + target_language\n",
        "\n",
        "source = []\n",
        "target = []\n",
        "skip_lines = []  # Collect the line numbers of the source portion to skip the same lines for the target portion.\n",
        "with open(source_file) as f:\n",
        "    for i, line in enumerate(f):\n",
        "        # Skip sentences that are contained in the test set.\n",
        "        # if line.strip() not in en_test_sents:\n",
        "        source.append(line.strip())\n",
        "        # else:\n",
        "        #     skip_lines.append(i)             \n",
        "with open(target_file) as f:\n",
        "    for j, line in enumerate(f):\n",
        "        # Only add to corpus if corresponding source was not skipped.\n",
        "        # if j not in skip_lines:\n",
        "        target.append(line.strip())\n",
        "    \n",
        "print('Loaded data and skipped {}/{} lines since contained in test set.'.format(len(skip_lines), i))\n",
        "    \n",
        "#df = pd.DataFrame(zip(source_file, target_file), columns=['source_sentence', 'target_sentence'])\n",
        "# if you get TypeError: data argument can't be an iterator is because of your zip version run this below\n",
        "df4= pd.DataFrame(list(zip(source, target)), columns=['source_sentence', 'target_sentence'])\n",
        "print(df4.shape)\n",
        "df4.head(4)"
      ],
      "execution_count": null,
      "outputs": []
    },
    {
      "cell_type": "code",
      "metadata": {
        "id": "Ggr3zGL8hyRr"
      },
      "source": [
        "# List = [df2 , df3 , df4]\n",
        "# df_all = pd.concat(List)\n",
        "\n",
        "List = [df1, df2, df3, df4]  # List of your dataframes\n",
        "\n",
        "df_all = pd.concat(List)\n",
        "df_all.head()\n"
      ],
      "execution_count": null,
      "outputs": []
    },
    {
      "cell_type": "code",
      "metadata": {
        "id": "P-8Ni5pdh5K1"
      },
      "source": [
        "df_all.shape"
      ],
      "execution_count": null,
      "outputs": []
    },
    {
      "cell_type": "code",
      "metadata": {
        "id": "cYTHuHIpiAYQ"
      },
      "source": [
        "# drop duplicate translations\n",
        "df_all_pp = df_all.drop_duplicates()\n",
        "\n",
        "# Shuffle the data to remove bias in dev set selection.\n",
        "df_all_pp = df_all_pp.sample(frac=1, random_state=seed).reset_index(drop=True)"
      ],
      "execution_count": null,
      "outputs": []
    },
    {
      "cell_type": "code",
      "metadata": {
        "id": "Ojvv36o0iPF0"
      },
      "source": [
        "df_all_pp.head()"
      ],
      "execution_count": null,
      "outputs": []
    },
    {
      "cell_type": "code",
      "metadata": {
        "id": "AawBx49_IC0y"
      },
      "source": [
        "df_all_pp.to_csv(r'\\drive\\MyDrive\\combined_data.csv', index=False)"
      ],
      "execution_count": null,
      "outputs": []
    },
    {
      "cell_type": "markdown",
      "metadata": {
        "id": "CemHdUZXGzKV"
      },
      "source": [
        "# New Section"
      ]
    },
    {
      "cell_type": "code",
      "metadata": {
        "id": "rx9kGj9bm9xE"
      },
      "source": [
        "print(combined_data.csv)"
      ],
      "execution_count": null,
      "outputs": []
    },
    {
      "cell_type": "code",
      "metadata": {
        "id": "auSTxfcAPKQB"
      },
      "source": [
        "print(torch.__version__)"
      ],
      "execution_count": null,
      "outputs": []
    },
    {
      "cell_type": "code",
      "metadata": {
        "id": "6MyKd0r7i0xE"
      },
      "source": [
        ""
      ],
      "execution_count": null,
      "outputs": []
    },
    {
      "cell_type": "code",
      "metadata": {
        "id": "9B3vS_zJdypi"
      },
      "source": [
        "data = df_all_pp"
      ],
      "execution_count": null,
      "outputs": []
    },
    {
      "cell_type": "code",
      "metadata": {
        "id": "gpwcipU_PptL"
      },
      "source": [
        "# data = pd.read_csv('/content/drive/My Drive/Rural Farmers Hub/hausa_mt/test.csv')"
      ],
      "execution_count": null,
      "outputs": []
    },
    {
      "cell_type": "code",
      "metadata": {
        "id": "fokdGcsjxu3Q"
      },
      "source": [
        "# data.rename( columns={'Unnamed: 0':'numbers'}, inplace=True )"
      ],
      "execution_count": null,
      "outputs": []
    },
    {
      "cell_type": "code",
      "metadata": {
        "id": "KKVck4PC08EZ"
      },
      "source": [
        "# data.drop('numbers', inplace=True, axis=1) #drop column with floats"
      ],
      "execution_count": null,
      "outputs": []
    },
    {
      "cell_type": "code",
      "metadata": {
        "id": "2gT5ysOXhIGr"
      },
      "source": [
        "data.shape"
      ],
      "execution_count": null,
      "outputs": []
    },
    {
      "cell_type": "markdown",
      "metadata": {
        "id": "oG-a46Bih2Q7"
      },
      "source": [
        "Tokenization"
      ]
    },
    {
      "cell_type": "code",
      "metadata": {
        "id": "MaR8PQ9ehPyz"
      },
      "source": [
        "## Create a Language class to store  util functions\n",
        "## such as index to word and word to index\n",
        "SOS_token = 0\n",
        "EOS_token = 1\n",
        "\n",
        "\n",
        "class Lang:\n",
        "    def __init__(self, name):\n",
        "        self.name = name\n",
        "        self.word2index = {\"<blank>\":0, \"SOS\":1,\"EOS\":2}\n",
        "        self.word2count = {}\n",
        "        self.index2word = {0:\"<blank>\", 1: \"SOS\", 2: \"EOS\"}\n",
        "        self.n_words = 3  # Count SOS and EOS\n",
        "\n",
        "    def addSentence(self, sentence):\n",
        "      try:\n",
        "        for word in sentence.split(' '):\n",
        "          self.addWord(word)\n",
        "      except:\n",
        "        a = 1\n",
        "        # Do nothing\n",
        "\n",
        "    def addWord(self, word):\n",
        "        if word not in self.word2index:\n",
        "            self.word2index[word] = self.n_words\n",
        "            self.word2count[word] = 1\n",
        "            self.index2word[self.n_words] = word\n",
        "            self.n_words += 1\n",
        "        else:\n",
        "            self.word2count[word] += 1"
      ],
      "execution_count": null,
      "outputs": []
    },
    {
      "cell_type": "code",
      "metadata": {
        "id": "59jHcmkMjhQK"
      },
      "source": [
        "# Turn a Unicode string to plain ASCII, thanks to\n",
        "# https://stackoverflow.com/a/518232/2809427\n",
        "def unicodeToAscii(s):\n",
        "    return ''.join(\n",
        "        c for c in unicodedata.normalize('NFD', s)\n",
        "        if unicodedata.category(c) != 'Mn'\n",
        "    )\n",
        "\n",
        "# Lowercase, trim, and remove non-letter characters\n",
        "def normalizeString(s):\n",
        "    s = s.strip()\n",
        "    s = re.sub(r\"([.!?])\", r\" \\1\", s)\n",
        "    # s = re.sub(r\"[^a-zA-Z.!?]+\", r\" \", s)\n",
        "    return s.strip()"
      ],
      "execution_count": null,
      "outputs": []
    },
    {
      "cell_type": "code",
      "metadata": {
        "id": "clym_3mCjwkw"
      },
      "source": [
        "zdata = list(zip(data[\"source_sentence\"],data[\"target_sentence\"])) ##zipped the two language together"
      ],
      "execution_count": null,
      "outputs": []
    },
    {
      "cell_type": "code",
      "metadata": {
        "id": "IYqfwiUBkWcD"
      },
      "source": [
        "zdata[0][1]"
      ],
      "execution_count": null,
      "outputs": []
    },
    {
      "cell_type": "code",
      "metadata": {
        "id": "4S_N_Krsr7U5"
      },
      "source": [
        "zdata[4]"
      ],
      "execution_count": null,
      "outputs": []
    },
    {
      "cell_type": "code",
      "metadata": {
        "id": "jNEq9fLkk_dt"
      },
      "source": [
        "## create lang\n",
        "\n",
        "eng_lang = Lang(\"source_sentence\")\n",
        "#hau_lang.str = Lang(\"target_sentence\")\n",
        "hau_new = data[data['target_sentence'].notnull()]\n",
        "\n",
        "\n",
        "hau_lang = Lang(\"hau_new\")"
      ],
      "execution_count": null,
      "outputs": []
    },
    {
      "cell_type": "code",
      "metadata": {
        "id": "MYnhFMvHlG2r"
      },
      "source": [
        "for source_sentence, target_sentence in zdata:\n",
        "  eng_lang.addSentence(source_sentence)\n",
        "\n",
        "  # print(source_sentence, target_sentence)\n",
        "  hau_lang.addSentence(target_sentence)\n",
        "  "
      ],
      "execution_count": null,
      "outputs": []
    },
    {
      "cell_type": "code",
      "metadata": {
        "id": "xIpIb6lEljR6"
      },
      "source": [
        "hau_lang.n_words"
      ],
      "execution_count": null,
      "outputs": []
    },
    {
      "cell_type": "code",
      "metadata": {
        "id": "pRsXrLoM4tGo"
      },
      "source": [
        "eng_lang.n_words"
      ],
      "execution_count": null,
      "outputs": []
    },
    {
      "cell_type": "code",
      "metadata": {
        "id": "IfHXV-qMNl7C"
      },
      "source": [
        "len(list(eng_lang.word2count))"
      ],
      "execution_count": null,
      "outputs": []
    },
    {
      "cell_type": "code",
      "metadata": {
        "id": "GSGMcV9HpgBU"
      },
      "source": [
        "## convert word to their index\n",
        "def tokenize(Lang,sentence):\n",
        "    return [Lang.word2index.get(word) for word in sentence.split(' ')]\n",
        "    #X = [[word2idx.get(token, None) for token in d.split()] for d in desc]"
      ],
      "execution_count": null,
      "outputs": []
    },
    {
      "cell_type": "code",
      "metadata": {
        "id": "rNW2fBYNpnS4"
      },
      "source": [
        "pairs2 = np.array(zdata) ## convert the pairs to numpy array"
      ],
      "execution_count": null,
      "outputs": []
    },
    {
      "cell_type": "markdown",
      "metadata": {
        "id": "efvmgsNFpu1z"
      },
      "source": [
        "create the input lang ENglish tokenization"
      ]
    },
    {
      "cell_type": "code",
      "metadata": {
        "id": "CR2D_omApqpj"
      },
      "source": [
        "input_token = list(map(lambda x: tokenize(eng_lang,x),pairs2[:,0]))"
      ],
      "execution_count": null,
      "outputs": []
    },
    {
      "cell_type": "code",
      "metadata": {
        "id": "OSQDZhkL-I7M"
      },
      "source": [
        "print(input_token[:2], pairs2[:,0][:2])"
      ],
      "execution_count": null,
      "outputs": []
    },
    {
      "cell_type": "code",
      "metadata": {
        "id": "m6HbPglUAcq1"
      },
      "source": [
        "## tokenization for output lang\n",
        "def tokenize2(Lang,sentence):\n",
        "    \n",
        "    sent = \"SOS\" + \" \" + sentence + \" \" + \"EOS\"\n",
        "    return [Lang.word2index.get(word) for word in sent.split(' ')]"
      ],
      "execution_count": null,
      "outputs": []
    },
    {
      "cell_type": "code",
      "metadata": {
        "id": "-QPBX8yVAzZt"
      },
      "source": [
        "output_token = list(map(lambda x: tokenize2(hau_lang,x),pairs2[:,1]))"
      ],
      "execution_count": null,
      "outputs": []
    },
    {
      "cell_type": "code",
      "metadata": {
        "id": "NpGkzAWM-lHW"
      },
      "source": [
        "print(output_token[:2], pairs2[:,1][:2])"
      ],
      "execution_count": null,
      "outputs": []
    },
    {
      "cell_type": "code",
      "metadata": {
        "id": "5Lk0p3E1Bqtq"
      },
      "source": [
        "len(input_token), len(output_token)"
      ],
      "execution_count": null,
      "outputs": []
    },
    {
      "cell_type": "code",
      "metadata": {
        "id": "Sui-3bXcBwhD"
      },
      "source": [
        "len_arr = map(lambda x: len(x), input_token)\n",
        "max_input_length = np.array(list(len_arr)).max()\n",
        "max_input_length"
      ],
      "execution_count": null,
      "outputs": []
    },
    {
      "cell_type": "code",
      "metadata": {
        "id": "rvfZpXuY9uxd"
      },
      "source": [
        "len_arr = map(lambda x: len(x), output_token)\n",
        "max_output_length = np.array(list(len_arr)).max()\n",
        "max_output_length"
      ],
      "execution_count": null,
      "outputs": []
    },
    {
      "cell_type": "markdown",
      "metadata": {
        "id": "hS8GWYpNDVh3"
      },
      "source": [
        "the input and output lang is padded and converted to numpy array"
      ]
    },
    {
      "cell_type": "code",
      "metadata": {
        "id": "rlCcHLoZB27L"
      },
      "source": [
        "MAX_LENGTH = (np.array([max_input_length, max_output_length])).max()\n",
        "MAX_LENGTH"
      ],
      "execution_count": null,
      "outputs": []
    },
    {
      "cell_type": "code",
      "metadata": {
        "id": "MlDrPks0B-nF"
      },
      "source": [
        "input_tokenPad = np.zeros((len(input_token),MAX_LENGTH))\n",
        "output_tokenPad = np.zeros((len(input_token),MAX_LENGTH))"
      ],
      "execution_count": null,
      "outputs": []
    },
    {
      "cell_type": "code",
      "metadata": {
        "id": "1MazqJqoHjAZ"
      },
      "source": [
        "print(np.unique(input_tokenPad[2]))"
      ],
      "execution_count": null,
      "outputs": []
    },
    {
      "cell_type": "code",
      "metadata": {
        "id": "Xkfakek2-wHd"
      },
      "source": [
        "input_token[0], output_token[0]"
      ],
      "execution_count": null,
      "outputs": []
    },
    {
      "cell_type": "code",
      "metadata": {
        "id": "3bKRgYexCCk-"
      },
      "source": [
        "for i,v in enumerate(input_token):\n",
        "    \n",
        "    for j, token in enumerate(v):\n",
        "        \n",
        "        input_tokenPad[i,j] = token"
      ],
      "execution_count": null,
      "outputs": []
    },
    {
      "cell_type": "code",
      "metadata": {
        "id": "Q2-s6kPmCn_i"
      },
      "source": [
        "for i,v in enumerate(output_token):\n",
        "    \n",
        "    for j, token in enumerate(v):\n",
        "        \n",
        "        output_tokenPad[i,j] = token"
      ],
      "execution_count": null,
      "outputs": []
    },
    {
      "cell_type": "code",
      "metadata": {
        "id": "Cn2vjJ-jCuO5"
      },
      "source": [
        "print(input_tokenPad[1], output_tokenPad[1])"
      ],
      "execution_count": null,
      "outputs": []
    },
    {
      "cell_type": "code",
      "metadata": {
        "id": "1iyRMuDrDAJf"
      },
      "source": [
        "## we only want up to 20K rows------cause of batching\n",
        "input_tokenPad1 = input_tokenPad[:1000]\n",
        "output_tokenPad1 = output_tokenPad[:1000]"
      ],
      "execution_count": null,
      "outputs": []
    },
    {
      "cell_type": "code",
      "metadata": {
        "id": "eQkQRQ3K9n9S"
      },
      "source": [
        "print(len(input_tokenPad1))"
      ],
      "execution_count": null,
      "outputs": []
    },
    {
      "cell_type": "code",
      "metadata": {
        "id": "FqFe-rVaDE1_"
      },
      "source": [
        "from sklearn.model_selection import train_test_split"
      ],
      "execution_count": null,
      "outputs": []
    },
    {
      "cell_type": "code",
      "metadata": {
        "id": "jfHX52DiDJXe"
      },
      "source": [
        "#split the dataset into train, test and validation\n",
        "train_eng, valid_eng,train_hau,valid_hau = train_test_split(input_tokenPad1,output_tokenPad1,test_size=0.2,shuffle=True)"
      ],
      "execution_count": null,
      "outputs": []
    },
    {
      "cell_type": "code",
      "metadata": {
        "id": "B09hwTR1ATQS"
      },
      "source": [
        "print(train_eng[0], train_hau[0])"
      ],
      "execution_count": null,
      "outputs": []
    },
    {
      "cell_type": "markdown",
      "metadata": {
        "id": "yw5vlGWDDbxo"
      },
      "source": [
        "Data Loader is created for the dataset to make batching easy"
      ]
    },
    {
      "cell_type": "code",
      "metadata": {
        "id": "G3almvvyDOWT"
      },
      "source": [
        "from torch.utils.data import TensorDataset, DataLoader\n",
        "\n",
        "train_data = TensorDataset(torch.from_numpy(train_eng).long(),torch.from_numpy(train_hau).long())\n",
        "valid_data = TensorDataset(torch.from_numpy(valid_eng).long(),torch.from_numpy(valid_hau).long())\n",
        "\n",
        "batch_size = 32\n",
        "\n",
        "train_loader= DataLoader(train_data,shuffle=True,batch_size=batch_size,)\n",
        "valid_loader =DataLoader(valid_data,shuffle=True,batch_size=batch_size,)\n",
        "\n",
        "# print(train_eng[3])"
      ],
      "execution_count": null,
      "outputs": []
    },
    {
      "cell_type": "code",
      "metadata": {
        "id": "0a6tQu5ED6qg"
      },
      "source": [
        "(list(train_loader))[0][0]"
      ],
      "execution_count": null,
      "outputs": []
    },
    {
      "cell_type": "code",
      "metadata": {
        "id": "D8kSfuuCDgh4"
      },
      "source": [
        "# obtain one batch of training data\n",
        "dataiter = iter(train_loader)\n",
        "sample_x, sample_y = dataiter.next()\n",
        "\n",
        "print(\"shape of english\", sample_x.device)"
      ],
      "execution_count": null,
      "outputs": []
    },
    {
      "cell_type": "markdown",
      "metadata": {
        "id": "aGRSbGhuDmZQ"
      },
      "source": [
        "transformer model"
      ]
    },
    {
      "cell_type": "code",
      "metadata": {
        "id": "b3tvj1AcDk2_"
      },
      "source": [
        "import torch.nn as nn\n",
        "import torch.nn.functional as F\n",
        "import math, copy, time\n",
        "from torch.autograd import Variable\n",
        "import matplotlib.pyplot as plt\n",
        "import seaborn\n",
        "seaborn.set_context(context=\"talk\")\n",
        "%matplotlib inline"
      ],
      "execution_count": null,
      "outputs": []
    },
    {
      "cell_type": "markdown",
      "metadata": {
        "id": "V9k_XyB7D6jK"
      },
      "source": [
        "**transformer**"
      ]
    },
    {
      "cell_type": "code",
      "metadata": {
        "id": "Z0ldGTSWDsWt"
      },
      "source": [
        "class EncoderDecoder(nn.Module):\n",
        "    \"\"\"\n",
        "    A standard Encoder-Decoder architecture. Base for this and many \n",
        "    other models.\n",
        "    \"\"\"\n",
        "    def __init__(self, encoder, decoder, src_embed, tgt_embed, generator):\n",
        "        super(EncoderDecoder, self).__init__()\n",
        "        self.encoder = encoder\n",
        "        self.decoder = decoder\n",
        "        self.src_embed = src_embed\n",
        "        self.tgt_embed = tgt_embed\n",
        "        self.generator = generator\n",
        "        \n",
        "    def forward(self, src, tgt, src_mask, tgt_mask):\n",
        "        \"Take in and process masked src and target sequences.\"\n",
        "        return self.decode(self.encode(src, src_mask), src_mask,\n",
        "                            tgt, tgt_mask)\n",
        "    \n",
        "    def encode(self, src, src_mask):\n",
        "        return self.encoder(self.src_embed(src), src_mask)\n",
        "    \n",
        "    def decode(self, memory, src_mask, tgt, tgt_mask):\n",
        "        return self.decoder(self.tgt_embed(tgt), memory, src_mask, tgt_mask)"
      ],
      "execution_count": null,
      "outputs": []
    },
    {
      "cell_type": "code",
      "metadata": {
        "id": "gdyILbsmDybz"
      },
      "source": [
        "class Generator(nn.Module):\n",
        "    \"Define standard linear + softmax generation step.\"\n",
        "    def __init__(self, d_model, vocab):\n",
        "        super(Generator, self).__init__()\n",
        "        self.proj = nn.Linear(d_model, vocab)\n",
        "\n",
        "    def forward(self, x):\n",
        "        return F.log_softmax(self.proj(x), dim=-1)"
      ],
      "execution_count": null,
      "outputs": []
    },
    {
      "cell_type": "markdown",
      "metadata": {
        "id": "4LESWmAiEBV0"
      },
      "source": [
        "**encoder and decoder stacks**"
      ]
    },
    {
      "cell_type": "code",
      "metadata": {
        "id": "3t8N3q9ZD2Vq"
      },
      "source": [
        "def clones(module, N):\n",
        "    \"Produce N identical layers.\"\n",
        "    return nn.ModuleList([copy.deepcopy(module) for _ in range(N)])"
      ],
      "execution_count": null,
      "outputs": []
    },
    {
      "cell_type": "code",
      "metadata": {
        "id": "Q5OBNf0JEJkZ"
      },
      "source": [
        "class Encoder(nn.Module):\n",
        "    \"Core encoder is a stack of N layers\"\n",
        "    def __init__(self, layer, N):\n",
        "        super(Encoder, self).__init__()\n",
        "        self.layers = clones(layer, N)\n",
        "        self.norm = LayerNorm(layer.size)\n",
        "        \n",
        "    def forward(self, x, mask):\n",
        "        \"Pass the input (and mask) through each layer in turn.\"\n",
        "        for layer in self.layers:\n",
        "            x = layer(x, mask)\n",
        "        return self.norm(x)"
      ],
      "execution_count": null,
      "outputs": []
    },
    {
      "cell_type": "code",
      "metadata": {
        "id": "VGf9ID1gENJ-"
      },
      "source": [
        "class LayerNorm(nn.Module):\n",
        "    \"Construct a layernorm module (See citation for details).\"\n",
        "    def __init__(self, features, eps=1e-6):\n",
        "        super(LayerNorm, self).__init__()\n",
        "        self.a_2 = nn.Parameter(torch.ones(features))\n",
        "        self.b_2 = nn.Parameter(torch.zeros(features))\n",
        "        self.eps = eps\n",
        "\n",
        "    def forward(self, x):\n",
        "        mean = x.mean(-1, keepdim=True)\n",
        "        std = x.std(-1, keepdim=True)\n",
        "        return self.a_2 * (x - mean) / (std + self.eps) + self.b_2"
      ],
      "execution_count": null,
      "outputs": []
    },
    {
      "cell_type": "code",
      "metadata": {
        "id": "LCzEoyp3EQgd"
      },
      "source": [
        "class SublayerConnection(nn.Module):\n",
        "    \"\"\"\n",
        "    A residual connection followed by a layer norm.\n",
        "    Note for code simplicity the norm is first as opposed to last.\n",
        "    \"\"\"\n",
        "    def __init__(self, size, dropout):\n",
        "        super(SublayerConnection, self).__init__()\n",
        "        self.norm = LayerNorm(size)\n",
        "        self.dropout = nn.Dropout(dropout)\n",
        "\n",
        "    def forward(self, x, sublayer):\n",
        "        \"Apply residual connection to any sublayer with the same size.\"\n",
        "        return x + self.dropout(sublayer(self.norm(x)))"
      ],
      "execution_count": null,
      "outputs": []
    },
    {
      "cell_type": "code",
      "metadata": {
        "id": "WKWWpT6kET0n"
      },
      "source": [
        "class EncoderLayer(nn.Module):\n",
        "    \"Encoder is made up of self-attn and feed forward (defined below)\"\n",
        "    def __init__(self, size, self_attn, feed_forward, dropout):\n",
        "        super(EncoderLayer, self).__init__()\n",
        "        self.self_attn = self_attn\n",
        "        self.feed_forward = feed_forward\n",
        "        self.sublayer = clones(SublayerConnection(size, dropout), 2)\n",
        "        self.size = size\n",
        "\n",
        "    def forward(self, x, mask):\n",
        "        \"Follow Figure 1 (left) for connections.\"\n",
        "        x = self.sublayer[0](x, lambda x: self.self_attn(x, x, x, mask))\n",
        "        return self.sublayer[1](x, self.feed_forward)"
      ],
      "execution_count": null,
      "outputs": []
    },
    {
      "cell_type": "markdown",
      "metadata": {
        "id": "iietqDHmEYrh"
      },
      "source": [
        "**decoder**"
      ]
    },
    {
      "cell_type": "code",
      "metadata": {
        "id": "QtVUXkzsEW8q"
      },
      "source": [
        "class Decoder(nn.Module):\n",
        "    \"Generic N layer decoder with masking.\"\n",
        "    def __init__(self, layer, N):\n",
        "        super(Decoder, self).__init__()\n",
        "        self.layers = clones(layer, N)\n",
        "        self.norm = LayerNorm(layer.size)\n",
        "        \n",
        "    def forward(self, x, memory, src_mask, tgt_mask):\n",
        "        for layer in self.layers:\n",
        "            x = layer(x, memory, src_mask, tgt_mask)\n",
        "        return self.norm(x)"
      ],
      "execution_count": null,
      "outputs": []
    },
    {
      "cell_type": "code",
      "metadata": {
        "id": "SlyA-mgUEeas"
      },
      "source": [
        "class DecoderLayer(nn.Module):\n",
        "    \"Decoder is made of self-attn, src-attn, and feed forward (defined below)\"\n",
        "    def __init__(self, size, self_attn, src_attn, feed_forward, dropout):\n",
        "        super(DecoderLayer, self).__init__()\n",
        "        self.size = size\n",
        "        self.self_attn = self_attn\n",
        "        self.src_attn = src_attn\n",
        "        self.feed_forward = feed_forward\n",
        "        self.sublayer = clones(SublayerConnection(size, dropout), 3)\n",
        " \n",
        "    def forward(self, x, memory, src_mask, tgt_mask):\n",
        "        \"Follow Figure 1 (right) for connections.\"\n",
        "        m = memory\n",
        "        x = self.sublayer[0](x, lambda x: self.self_attn(x, x, x, tgt_mask))\n",
        "        x = self.sublayer[1](x, lambda x: self.src_attn(x, m, m, src_mask))\n",
        "        return self.sublayer[2](x, self.feed_forward)"
      ],
      "execution_count": null,
      "outputs": []
    },
    {
      "cell_type": "code",
      "metadata": {
        "id": "4M4jTxZmEhj0"
      },
      "source": [
        "def subsequent_mask(size):\n",
        "    \"Mask out subsequent positions.\"\n",
        "    attn_shape = (1, size, size)\n",
        "    subsequent_mask = np.triu(np.ones(attn_shape), k=1).astype('uint8')\n",
        "    return torch.from_numpy(subsequent_mask) == 0"
      ],
      "execution_count": null,
      "outputs": []
    },
    {
      "cell_type": "code",
      "metadata": {
        "id": "P8a3xw7DEkv9"
      },
      "source": [
        "plt.figure(figsize=(5,5))\n",
        "plt.imshow(subsequent_mask(20)[0])\n",
        "None"
      ],
      "execution_count": null,
      "outputs": []
    },
    {
      "cell_type": "markdown",
      "metadata": {
        "id": "2DevY-mTEphg"
      },
      "source": [
        "**attention**"
      ]
    },
    {
      "cell_type": "code",
      "metadata": {
        "id": "P3KuM0TjEsE3"
      },
      "source": [
        "def attention(query, key, value, mask=None, dropout=None):\n",
        "    \"Compute 'Scaled Dot Product Attention'\"\n",
        "    d_k = query.size(-1)\n",
        "    scores = torch.matmul(query, key.transpose(-2, -1)) \\\n",
        "             / math.sqrt(d_k)\n",
        "    if mask is not None:\n",
        "        scores = scores.masked_fill(mask == 0, -1e9)\n",
        "    p_attn = F.softmax(scores, dim = -1)\n",
        "    if dropout is not None:\n",
        "        p_attn = dropout(p_attn)\n",
        "    return torch.matmul(p_attn, value), p_attn"
      ],
      "execution_count": null,
      "outputs": []
    },
    {
      "cell_type": "code",
      "metadata": {
        "id": "vnQKm6A6Eu5A"
      },
      "source": [
        "class MultiHeadedAttention(nn.Module):\n",
        "    def __init__(self, h, d_model, dropout=0.1):\n",
        "        \"Take in model size and number of heads.\"\n",
        "        super(MultiHeadedAttention, self).__init__()\n",
        "        assert d_model % h == 0\n",
        "        # We assume d_v always equals d_k\n",
        "        self.d_k = d_model // h\n",
        "        self.h = h\n",
        "        self.linears = clones(nn.Linear(d_model, d_model), 4)\n",
        "        self.attn = None\n",
        "        self.dropout = nn.Dropout(p=dropout)\n",
        "        \n",
        "    def forward(self, query, key, value, mask=None):\n",
        "        \"Implements Figure 2\"\n",
        "        if mask is not None:\n",
        "            # Same mask applied to all h heads.\n",
        "            mask = mask.unsqueeze(1)\n",
        "        nbatches = query.size(0)\n",
        "        \n",
        "        # 1) Do all the linear projections in batch from d_model => h x d_k \n",
        "        query, key, value = \\\n",
        "            [l(x).view(nbatches, -1, self.h, self.d_k).transpose(1, 2)\n",
        "             for l, x in zip(self.linears, (query, key, value))]\n",
        "        \n",
        "        # 2) Apply attention on all the projected vectors in batch. \n",
        "        x, self.attn = attention(query, key, value, mask=mask, \n",
        "                                 dropout=self.dropout)\n",
        "        \n",
        "        # 3) \"Concat\" using a view and apply a final linear. \n",
        "        x = x.transpose(1, 2).contiguous() \\\n",
        "             .view(nbatches, -1, self.h * self.d_k)\n",
        "        return self.linears[-1](x)"
      ],
      "execution_count": null,
      "outputs": []
    },
    {
      "cell_type": "markdown",
      "metadata": {
        "id": "gVDCz_jyE1D0"
      },
      "source": [
        "**Position-wise Feed-forward**"
      ]
    },
    {
      "cell_type": "code",
      "metadata": {
        "id": "kXcL9766Eyf_"
      },
      "source": [
        "class PositionwiseFeedForward(nn.Module):\n",
        "    \"Implements FFN equation.\"\n",
        "    def __init__(self, d_model, d_ff, dropout=0.1):\n",
        "        super(PositionwiseFeedForward, self).__init__()\n",
        "        self.w_1 = nn.Linear(d_model, d_ff)\n",
        "        self.w_2 = nn.Linear(d_ff, d_model)\n",
        "        self.dropout = nn.Dropout(dropout)\n",
        "\n",
        "    def forward(self, x):\n",
        "        return self.w_2(self.dropout(F.relu(self.w_1(x))))"
      ],
      "execution_count": null,
      "outputs": []
    },
    {
      "cell_type": "markdown",
      "metadata": {
        "id": "wCf6bx1BE87f"
      },
      "source": [
        "**embedding and softmax**"
      ]
    },
    {
      "cell_type": "code",
      "metadata": {
        "id": "hYaJW45UE7W7"
      },
      "source": [
        "class Embeddings(nn.Module):\n",
        "    def __init__(self, d_model, vocab):\n",
        "        super(Embeddings, self).__init__()\n",
        "        self.lut = nn.Embedding(vocab, d_model)\n",
        "        self.d_model = d_model\n",
        "\n",
        "    def forward(self, x):\n",
        "        return self.lut(x) * math.sqrt(self.d_model)"
      ],
      "execution_count": null,
      "outputs": []
    },
    {
      "cell_type": "markdown",
      "metadata": {
        "id": "MWj51rS4FELb"
      },
      "source": [
        "**positional encoding**"
      ]
    },
    {
      "cell_type": "code",
      "metadata": {
        "id": "VZV9BemLFCfU"
      },
      "source": [
        "class PositionalEncoding(nn.Module):\n",
        "    \"Implement the PE function.\"\n",
        "    def __init__(self, d_model, dropout, max_len=5000):\n",
        "        super(PositionalEncoding, self).__init__()\n",
        "        self.dropout = nn.Dropout(p=dropout)\n",
        "        \n",
        "        # Compute the positional encodings once in log space.\n",
        "        pe = torch.zeros(max_len, d_model)\n",
        "        position = torch.arange(0., max_len).unsqueeze(1)\n",
        "        div_term = torch.exp(torch.arange(0., d_model, 2) *\n",
        "                             -(math.log(10000.0) / d_model))\n",
        "        pe[:, 0::2] = torch.sin(position * div_term)\n",
        "        pe[:, 1::2] = torch.cos(position * div_term)\n",
        "        pe = pe.unsqueeze(0)\n",
        "        self.register_buffer('pe', pe)\n",
        "        \n",
        "    def forward(self, x):\n",
        "        x = x + Variable(self.pe[:, :x.size(1)], \n",
        "                         requires_grad=False)\n",
        "        return self.dropout(x)"
      ],
      "execution_count": null,
      "outputs": []
    },
    {
      "cell_type": "code",
      "metadata": {
        "id": "j1WJPxBuFO-f"
      },
      "source": [
        "plt.figure(figsize=(15, 5))\n",
        "pe = PositionalEncoding(20, 0)\n",
        "y = pe.forward(Variable(torch.zeros(1, 100, 20)))\n",
        "plt.plot(np.arange(100), y[0, :, 4:8].data.numpy())\n",
        "plt.legend([\"dim %d\"%p for p in [4,5,6,7]])\n",
        "None"
      ],
      "execution_count": null,
      "outputs": []
    },
    {
      "cell_type": "markdown",
      "metadata": {
        "id": "65axfXCiFVxV"
      },
      "source": [
        "**full model**"
      ]
    },
    {
      "cell_type": "code",
      "metadata": {
        "id": "54arX5iVFTOO"
      },
      "source": [
        "def make_model(src_vocab, tgt_vocab, N=6, \n",
        "               d_model=512, d_ff=2048, h=8, dropout=0.1):\n",
        "    \"Helper: Construct a model from hyperparameters.\"\n",
        "    c = copy.deepcopy\n",
        "    attn = MultiHeadedAttention(h, d_model)\n",
        "    ff = PositionwiseFeedForward(d_model, d_ff, dropout)\n",
        "    position = PositionalEncoding(d_model, dropout)\n",
        "    model = EncoderDecoder(\n",
        "        Encoder(EncoderLayer(d_model, c(attn), c(ff), dropout), N),\n",
        "        Decoder(DecoderLayer(d_model, c(attn), c(attn), \n",
        "                             c(ff), dropout), N),\n",
        "        nn.Sequential(Embeddings(d_model, src_vocab), c(position)),\n",
        "        nn.Sequential(Embeddings(d_model, tgt_vocab), c(position)),\n",
        "        Generator(d_model, tgt_vocab))\n",
        "    \n",
        "    # This was important from their code. \n",
        "    # Initialize parameters with Glorot / fan_avg.\n",
        "    for p in model.parameters():\n",
        "        if p.dim() > 1:\n",
        "            nn.init.xavier_uniform(p)\n",
        "    return model"
      ],
      "execution_count": null,
      "outputs": []
    },
    {
      "cell_type": "code",
      "metadata": {
        "id": "gFY2Ra2MFc8s"
      },
      "source": [
        "# Small example model.\n",
        "tmp_model = make_model(10, 10, 2)\n",
        "None"
      ],
      "execution_count": null,
      "outputs": []
    },
    {
      "cell_type": "markdown",
      "metadata": {
        "id": "m8oAJD7VFiW0"
      },
      "source": [
        "**Training**"
      ]
    },
    {
      "cell_type": "code",
      "metadata": {
        "id": "ZGhLCi1dFkhC"
      },
      "source": [
        "class Batch:\n",
        "    \"Object for holding a batch of data with mask during training.\"\n",
        "    def __init__(self, src, trg=None, pad=0):\n",
        "        self.src = src\n",
        "        self.src_mask = (src != pad).unsqueeze(-2)\n",
        "        if trg is not None:\n",
        "            self.trg = trg[:, :-1]\n",
        "            self.trg_y = trg[:, 1:]\n",
        "            self.trg_mask = \\\n",
        "                self.make_std_mask(self.trg, pad)\n",
        "            self.ntokens = (self.trg_y != pad).data.sum()\n",
        "    \n",
        "    @staticmethod\n",
        "    def make_std_mask(tgt, pad):\n",
        "        \"Create a mask to hide padding and future words.\"\n",
        "        tgt_mask = (tgt != pad).unsqueeze(-2)\n",
        "        tgt_mask = tgt_mask & Variable(\n",
        "            subsequent_mask(tgt.size(-1)).type_as(tgt_mask.data))\n",
        "        return tgt_mask"
      ],
      "execution_count": null,
      "outputs": []
    },
    {
      "cell_type": "code",
      "metadata": {
        "id": "jmOZyWErFrMv"
      },
      "source": [
        "def run_epoch(data_iter, model, loss_compute):\n",
        "    \"Standard Training and Logging Function\"\n",
        "    start = time.time()\n",
        "    total_tokens = 0\n",
        "    total_loss = 0\n",
        "    tokens = 0\n",
        "    for i, data in enumerate(data_iter):\n",
        "        \n",
        "        src, trg = data\n",
        "        batch = Batch(src.cuda(),trg.cuda())\n",
        "        out = model.forward(batch.src, batch.trg, \n",
        "                            batch.src_mask, batch.trg_mask)\n",
        "        loss = loss_compute(out, batch.trg_y, batch.ntokens)\n",
        "        total_loss += loss\n",
        "        total_tokens += batch.ntokens\n",
        "        tokens += batch.ntokens\n",
        "        if i % 50 == 1:\n",
        "            elapsed = time.time() - start\n",
        "            print(\"Epoch Step: %d Loss: %f Tokens per Sec: %f\" %\n",
        "                    (i, loss / batch.ntokens, tokens / elapsed))\n",
        "            start = time.time()\n",
        "            tokens = 0\n",
        "    return total_loss / total_tokens"
      ],
      "execution_count": null,
      "outputs": []
    },
    {
      "cell_type": "markdown",
      "metadata": {
        "id": "1cMgF1CqFwPT"
      },
      "source": [
        "**optim**"
      ]
    },
    {
      "cell_type": "code",
      "metadata": {
        "id": "ZvWIqJ5GFynr"
      },
      "source": [
        "class NoamOpt:\n",
        "    \"Optim wrapper that implements rate.\"\n",
        "    def __init__(self, model_size, factor, warmup, optimizer):\n",
        "        self.optimizer = optimizer\n",
        "        self._step = 0\n",
        "        self.warmup = warmup\n",
        "        self.factor = factor\n",
        "        self.model_size = model_size\n",
        "        self._rate = 0\n",
        "        \n",
        "    def step(self):\n",
        "        \"Update parameters and rate\"\n",
        "        self._step += 1\n",
        "        rate = self.rate()\n",
        "        for p in self.optimizer.param_groups:\n",
        "            p['lr'] = rate\n",
        "        self._rate = rate\n",
        "        self.optimizer.step()\n",
        "        \n",
        "    def rate(self, step = None):\n",
        "        \"Implement `lrate` above\"\n",
        "        if step is None:\n",
        "            step = self._step\n",
        "        return self.factor * \\\n",
        "            (self.model_size ** (-0.5) *\n",
        "            min(step ** (-0.5), step * self.warmup ** (-1.5)))\n",
        "        \n",
        "def get_std_opt(model):\n",
        "    return NoamOpt(model.src_embed[0].d_model, 2, 4000,\n",
        "            torch.optim.Adam(model.parameters(), lr=0, betas=(0.9, 0.98), eps=1e-9))"
      ],
      "execution_count": null,
      "outputs": []
    },
    {
      "cell_type": "code",
      "metadata": {
        "id": "fou5Lyw1F2VY"
      },
      "source": [
        "# Three settings of the lrate hyperparameters.\n",
        "opts = [NoamOpt(512, 1, 4000, None), \n",
        "        NoamOpt(512, 1, 8000, None),\n",
        "        NoamOpt(256, 1, 4000, None)]\n",
        "plt.plot(np.arange(1, 20000), [[opt.rate(i) for opt in opts] for i in range(1, 20000)])\n",
        "plt.legend([\"512:4000\", \"512:8000\", \"256:4000\"])\n",
        "None"
      ],
      "execution_count": null,
      "outputs": []
    },
    {
      "cell_type": "markdown",
      "metadata": {
        "id": "WUd3fIIhF9bF"
      },
      "source": [
        "**label smoothing**"
      ]
    },
    {
      "cell_type": "code",
      "metadata": {
        "id": "bOYr8PV8F7xz"
      },
      "source": [
        "class LabelSmoothing(nn.Module):\n",
        "    \"Implement label smoothing.\"\n",
        "    def __init__(self, size, padding_idx, smoothing=0.0):\n",
        "        super(LabelSmoothing, self).__init__()\n",
        "        self.criterion = nn.KLDivLoss(size_average=False)\n",
        "        self.padding_idx = padding_idx\n",
        "        self.confidence = 1.0 - smoothing\n",
        "        self.smoothing = smoothing\n",
        "        self.size = size\n",
        "        self.true_dist = None\n",
        "        \n",
        "    def forward(self, x, target):\n",
        "        assert x.size(1) == self.size\n",
        "        true_dist = x.data.clone()\n",
        "        true_dist.fill_(self.smoothing / (self.size - 2))\n",
        "        true_dist.scatter_(1, target.data.unsqueeze(1), self.confidence)\n",
        "        true_dist[:, self.padding_idx] = 0\n",
        "        mask = torch.nonzero(target.data == self.padding_idx)\n",
        "        if mask.dim() > 0:\n",
        "            true_dist.index_fill_(0, mask.squeeze(), 0.0)\n",
        "        self.true_dist = true_dist\n",
        "        return self.criterion(x, Variable(true_dist, requires_grad=False))"
      ],
      "execution_count": null,
      "outputs": []
    },
    {
      "cell_type": "markdown",
      "metadata": {
        "id": "pUTXWP7eGGH_"
      },
      "source": [
        "**loss computation**"
      ]
    },
    {
      "cell_type": "code",
      "metadata": {
        "id": "47BowVNiGEvO"
      },
      "source": [
        "class SimpleLossCompute:\n",
        "    \"A simple loss compute and train function.\"\n",
        "    def __init__(self, generator, criterion, opt=None):\n",
        "        self.generator = generator\n",
        "        self.criterion = criterion\n",
        "        self.opt = opt\n",
        "        \n",
        "    def __call__(self, x, y, norm):\n",
        "        x = self.generator(x)\n",
        "        loss = self.criterion(x.contiguous().view(-1, x.size(-1)), \n",
        "                              y.contiguous().view(-1)) / norm\n",
        "        loss.backward()\n",
        "        if self.opt is not None:\n",
        "            self.opt.step()\n",
        "            self.opt.optimizer.zero_grad()\n",
        "        return loss.item() * norm"
      ],
      "execution_count": null,
      "outputs": []
    },
    {
      "cell_type": "code",
      "metadata": {
        "id": "BmePk9PSGO_u"
      },
      "source": [
        "def greedy_decode(model, src, src_mask, max_len, start_symbol):\n",
        "    memory = model.encode(src, src_mask)\n",
        "    ys = torch.ones(1, 1).fill_(start_symbol).type_as(src.data)\n",
        "    for i in range(max_len-1):\n",
        "        out = model.decode(memory, src_mask, \n",
        "                           Variable(ys), \n",
        "                           Variable(subsequent_mask(ys.size(1))\n",
        "                                    .type_as(src.data)))\n",
        "        prob = model.generator(out[:, -1])\n",
        "        _, next_word = torch.max(prob, dim = 1)\n",
        "        next_word = next_word.data[0]\n",
        "        ys = torch.cat([ys, \n",
        "                        torch.ones(1, 1).type_as(src.data).fill_(next_word)], dim=1)\n",
        "    return ys"
      ],
      "execution_count": null,
      "outputs": []
    },
    {
      "cell_type": "code",
      "metadata": {
        "id": "cHfagbrwoirA"
      },
      "source": [
        ""
      ],
      "execution_count": null,
      "outputs": []
    },
    {
      "cell_type": "markdown",
      "metadata": {
        "id": "ysUNaYiPGUtO"
      },
      "source": [
        "**training begins**"
      ]
    },
    {
      "cell_type": "code",
      "metadata": {
        "id": "P70sL9VkGSZg"
      },
      "source": [
        "pad_idx = hau_lang.word2index[\"<blank>\"]\n",
        "print(eng_lang.n_words, hau_lang.n_words)\n",
        "model = make_model(eng_lang.n_words,hau_lang.n_words,N=6)\n",
        "model.cuda()\n",
        "criterion = LabelSmoothing(size=hau_lang.n_words,padding_idx=pad_idx,smoothing=0.1)\n",
        "criterion.cuda()"
      ],
      "execution_count": null,
      "outputs": []
    },
    {
      "cell_type": "code",
      "metadata": {
        "id": "YMKrv-rXGUY9"
      },
      "source": [
        "model_opt = NoamOpt(model.src_embed[0].d_model, 1, 4000,\n",
        "            torch.optim.Adam(model.parameters(), lr=0.01, betas=(0.9, 0.98), eps=1e-9))\n",
        "\n",
        "for epoch in range(500):\n",
        "  model.train()\n",
        "  \n",
        "  print(\"train\", run_epoch(train_loader,model,\n",
        "           SimpleLossCompute(model.generator,criterion,model_opt)))\n",
        "  model.eval()\n",
        "  print(\"test\", run_epoch(valid_loader,model,\n",
        "           SimpleLossCompute(model.generator,criterion,None)))"
      ],
      "execution_count": null,
      "outputs": []
    },
    {
      "cell_type": "code",
      "metadata": {
        "id": "vYPM1VYbnOnB"
      },
      "source": [
        "#print (loss_computes)"
      ],
      "execution_count": null,
      "outputs": []
    },
    {
      "cell_type": "code",
      "metadata": {
        "id": "cJkNTnE-sIHg"
      },
      "source": [
        "#plt.plot(loss_computes['Loss'], label='Training loss')\n",
        "#plt.plot(['Tokens per Sec'], label='Tokens per sec')\n",
        "#plt.legend()\n",
        "#_ = plt.ylim()"
      ],
      "execution_count": null,
      "outputs": []
    },
    {
      "cell_type": "code",
      "metadata": {
        "id": "0q6dGe3vIXUc"
      },
      "source": [
        "\n",
        "for i, data in enumerate(list(valid_loader)[:5]):\n",
        "    # print(\"English\", data[0][0])\n",
        "    # print(\"Hausa\", data[0][1])\n",
        "    src,trg = data[:10][0], data[:10][1]\n",
        "    # src,trg = src.cuda(), trg.cuda()\n",
        "    # print(len(src), len(trg))\n",
        "    batch = Batch(src.cuda(),trg.cuda())\n",
        "    src = batch.src[:1]\n",
        "    # print(src.cuda(), trg.cuda())\n",
        "    src_mask = (src != eng_lang.word2index[\"<blank>\"]).unsqueeze(-2)\n",
        "    # print(len(src), len(src_mask))\n",
        "    out = greedy_decode(model.cuda(), src, src_mask, \n",
        "                        max_len=60, start_symbol=hau_lang.word2index[\"SOS\"])\n",
        "    \n",
        "    # print(eng_lang.word2index)\n",
        "    # print(eng_lang.index2word[src[0, 0].item()])\n",
        "\n",
        "    # print(out)\n",
        "\n",
        "    # print(batch.trg.data)\n",
        "\n",
        "    # print(src[0, 2].item())\n",
        "    for i in range(0, src.size(1)):\n",
        "        sym = eng_lang.index2word[src[0, i].item()]\n",
        "        if sym == \"<blank>\": break\n",
        "        print(sym, end =\" \")\n",
        "    print()\n",
        "    print(\"Translation:\", end=\"\\t\")\n",
        "    for i in range(1, out.size(1)):\n",
        "        sym = hau_lang.index2word[out[0, i].item()]\n",
        "        if sym == \"EOS\": break\n",
        "        print(sym, end =\" \")\n",
        "    print()\n",
        "    print(\"Target:\", end=\"\\t\")\n",
        "    for i in range(1, batch.trg.size(1)):\n",
        "        \n",
        "        sym = hau_lang.index2word[batch.trg.data[0,i].item()]\n",
        "        if sym == \"EOS\": break\n",
        "        print(sym, end =\" \")\n",
        "    print()\n",
        "    break"
      ],
      "execution_count": null,
      "outputs": []
    },
    {
      "cell_type": "markdown",
      "metadata": {
        "id": "HaOhrJBqIu0D"
      },
      "source": [
        "**Inference**"
      ]
    },
    {
      "cell_type": "code",
      "metadata": {
        "id": "Jlqn_em6Iw89"
      },
      "source": [
        "model.eval()\n",
        "torch.save({\n",
        "            'SRT':eng_lang,\n",
        "            'TGT':hau_lang,\n",
        "            'model': model.state_dict()\n",
        "            }, \"drive/My Drive/hausa_mt/model3.pt\")\n"
      ],
      "execution_count": null,
      "outputs": []
    },
    {
      "cell_type": "code",
      "metadata": {
        "id": "2BqXEMWaIzzV"
      },
      "source": [
        "#input_lang."
      ],
      "execution_count": null,
      "outputs": []
    },
    {
      "cell_type": "code",
      "metadata": {
        "id": "2pZXCEjgI3tP"
      },
      "source": [
        "#path = \"drive/My Drive/machine_tran/NMT1.pt\""
      ],
      "execution_count": null,
      "outputs": []
    },
    {
      "cell_type": "code",
      "metadata": {
        "id": "mkkGVO87I7qh"
      },
      "source": [
        "#path = \"drive/My Drive/cros_ling/model3.pt\""
      ],
      "execution_count": null,
      "outputs": []
    },
    {
      "cell_type": "code",
      "metadata": {
        "id": "cVkYLurnI9rr"
      },
      "source": [
        "#model_pt = torch.load(path)"
      ],
      "execution_count": null,
      "outputs": []
    },
    {
      "cell_type": "code",
      "metadata": {
        "id": "WU6qUPM0JAPW"
      },
      "source": [
        "#src = model_pt['SRT']\n",
        "#trg = model_pt[\"TGT\"]"
      ],
      "execution_count": null,
      "outputs": []
    },
    {
      "cell_type": "code",
      "metadata": {
        "id": "WHORHOSAJDgn"
      },
      "source": [
        "#trg.n_words"
      ],
      "execution_count": null,
      "outputs": []
    },
    {
      "cell_type": "code",
      "metadata": {
        "id": "lSykYmX8JHsn"
      },
      "source": [
        "#modelp = make_model(src.n_words,trg.n_words,N=6)\n",
        "#modelp.load_state_dict(model_pt['model'])\n",
        "## optimizer.load_state_dict(model_pt['optimizer_state_dict'])"
      ],
      "execution_count": null,
      "outputs": []
    },
    {
      "cell_type": "code",
      "metadata": {
        "id": "hlV3isWEJIhi"
      },
      "source": [
        "\"\"\"\n",
        "sent = \"jesus\".lower().split()\n",
        "srcw = torch.LongTensor([[src.word2index[w] for w in sent]])\n",
        "srcw = Variable(srcw)\n",
        "src_mask = (srcw != src.word2index[\"<blank>\"]).unsqueeze(-2)\n",
        "out = greedy_decode(modelp, srcw, src_mask, \n",
        "                    max_len=2, start_symbol=trg.word2index[\"SOS\"])\n",
        "print(\"Translation:\", end=\"\\t\")\n",
        "trans = \"SOS \"\n",
        "for i in range(1, out.size(1)):\n",
        "    sym = trg.index2word[out[0, i].item()]\n",
        "    if sym == \"EOS\": break\n",
        "    trans += sym + \" \"\n",
        "print(trans)\n",
        "\"\"\""
      ],
      "execution_count": null,
      "outputs": []
    }
  ]
}